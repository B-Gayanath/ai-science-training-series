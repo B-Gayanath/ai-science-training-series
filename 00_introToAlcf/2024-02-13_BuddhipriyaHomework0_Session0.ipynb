{
 "cells": [
  {
   "cell_type": "markdown",
   "id": "dd2d82ef-5d7e-4d7c-a4d5-217adf37799f",
   "metadata": {},
   "source": [
    "# This is Homework 0"
   ]
  },
  {
   "cell_type": "code",
   "execution_count": 1,
   "id": "da6c8ece-a885-46aa-ad2e-655d036482c3",
   "metadata": {},
   "outputs": [],
   "source": [
    "import os,sys"
   ]
  },
  {
   "cell_type": "code",
   "execution_count": 2,
   "id": "a0c27255-162f-4c74-862f-8aea76b2c548",
   "metadata": {},
   "outputs": [
    {
     "name": "stdout",
     "output_type": "stream",
     "text": [
      "Testing.....\n"
     ]
    }
   ],
   "source": [
    "print(\"Testing.....\")"
   ]
  },
  {
   "cell_type": "code",
   "execution_count": null,
   "id": "9b1ab21b-3c7f-49f4-a25a-036443f3c825",
   "metadata": {},
   "outputs": [],
   "source": []
  }
 ],
 "metadata": {
  "kernelspec": {
   "display_name": "Python 3 (ipykernel)",
   "language": "python",
   "name": "python3"
  },
  "language_info": {
   "codemirror_mode": {
    "name": "ipython",
    "version": 3
   },
   "file_extension": ".py",
   "mimetype": "text/x-python",
   "name": "python",
   "nbconvert_exporter": "python",
   "pygments_lexer": "ipython3",
   "version": "3.9.15"
  }
 },
 "nbformat": 4,
 "nbformat_minor": 5
}
